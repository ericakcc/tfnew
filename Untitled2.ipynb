{
 "cells": [
  {
   "cell_type": "code",
   "execution_count": 1,
   "metadata": {
    "collapsed": true
   },
   "outputs": [],
   "source": [
    "import numpy as np\n",
    "import matplotlib.pyplot as plt\n",
    "import tensorflow as tf"
   ]
  },
  {
   "cell_type": "code",
   "execution_count": 2,
   "metadata": {
    "collapsed": true
   },
   "outputs": [],
   "source": [
    "# Load data\n",
    "X = np.zeros([1,4])\n",
    "y = np.zeros(1)\n",
    "for i in range(1,18):\n",
    "    data = np.load(r'D:\\gradddddddddddddddddd\\newdata\\data_%i.npy' % i)\n",
    "    for j in range(len(data)):\n",
    "        if data[j,4] < 2500:\n",
    "            X = np.append(X,np.array([np.hstack((data[j,2:5],data[j,6]))]),axis=0)\n",
    "#            X = np.append(X,np.array([data[j,3:5]]),axis=0)\n",
    "            y = np.append(y,data[j,5])\n",
    "#X3 = X[:,0] - X[:,1]\n",
    "#X = np.concatenate((X, np.array([X3]).T), axis=1)\n",
    "X = np.delete(X, 0, 0)\n",
    "y = np.delete(y, 0)\n",
    "X[:,0] = X[:,0]**(1./3.)\n",
    "\n",
    "y[y<10] = 0\n",
    "y[y>=10] = 1\n"
   ]
  },
  {
   "cell_type": "code",
   "execution_count": 3,
   "metadata": {
    "collapsed": true
   },
   "outputs": [],
   "source": [
    "# Splitting the dataset into the Training set and Test set\n",
    "from sklearn.model_selection import train_test_split\n",
    "X_train, X_test, y_train, y_test = train_test_split(X, y, test_size = 0.2, random_state = 0)\n",
    "\n",
    "# Feature Scaling\n",
    "from sklearn.preprocessing import StandardScaler\n",
    "sc = StandardScaler()\n",
    "X_train = sc.fit_transform(X_train)\n",
    "X_test = sc.transform(X_test)\n",
    "y_train = y_train.reshape(78210, 1)"
   ]
  },
  {
   "cell_type": "code",
   "execution_count": 63,
   "metadata": {
    "collapsed": true
   },
   "outputs": [],
   "source": [
    "X_feed = tf.train.batch(X_train.tolist(), batch_size=500)\n"
   ]
  },
  {
   "cell_type": "code",
   "execution_count": 64,
   "metadata": {
    "collapsed": true
   },
   "outputs": [],
   "source": [
    "y_feed = tf.train.batch(y_train.tolist(), batch_size=500)\n"
   ]
  },
  {
   "cell_type": "code",
   "execution_count": 53,
   "metadata": {
    "collapsed": true
   },
   "outputs": [],
   "source": [
    "# build model\n",
    "learning_rate = 0.01\n",
    "training_epochs = 500\n",
    "batch_size = 500\n",
    "display_steps = 10\n",
    "# Network Parameters\n",
    "n_hidden_1 = 4\n",
    "n_hidden_2 = 4\n",
    "n_input = 4\n",
    "n_classes = 1\n",
    "\n",
    "# tf Graph input\n",
    "x = tf.placeholder(tf.float32, [None, n_input])\n",
    "y_ = tf.placeholder(tf.float32, [None, n_classes])\n",
    "\n",
    "# layer1\n",
    "w_layer_1 = tf.Variable(tf.random_normal([n_input, n_hidden_1]))# weights layer1\n",
    "b_layer_1 = tf.Variable(tf.random_normal([n_hidden_1])) # bias layer1\n",
    "h_1 = tf.nn.relu(tf.add(tf.matmul(x, w_layer_1), b_layer_1))\n",
    "\n",
    "# layer2\n",
    "w_layer_2 = tf.Variable(tf.random_normal([n_hidden_1, n_hidden_2]))# weights layer1\n",
    "b_layer_2 = tf.Variable(tf.random_normal([n_hidden_2])) # bias layer1\n",
    "h_2 = tf.nn.relu(tf.add(tf.matmul(h_1, w_layer_2), b_layer_2))\n",
    "\n",
    "#output layer\n",
    "w_out = tf.Variable(tf.random_normal([n_hidden_2, n_classes]))# weights layer1\n",
    "b_out = tf.Variable(tf.random_normal([n_classes])) # bias layer1\n",
    "output = tf.nn.sigmoid(tf.add(tf.matmul(h_2, w_out), b_out))\n",
    "\n",
    "#cost fun\n",
    "cost = tf.reduce_mean(tf.nn.sigmoid_cross_entropy_with_logits(logits=output, labels=y_))\n",
    "#optimizer\n",
    "optimizer = tf.train.AdamOptimizer(learning_rate=learning_rate).minimize(cost)\n",
    "\n",
    "# Plot setting\n",
    "avg_set = []\n",
    "epoch_set = []\n"
   ]
  },
  {
   "cell_type": "code",
   "execution_count": null,
   "metadata": {
    "collapsed": true,
    "scrolled": true
   },
   "outputs": [],
   "source": [
    "#init the variables\n",
    "init = tf.global_variables_initializer()\n",
    "\n",
    "#train\n",
    "with tf.Session() as sess:\n",
    "    sess.run(init)\n",
    "    sess.run(X_feed)\n",
    "    sess.run(y_feed)\n",
    "    for epoch in range(training_epochs):\n",
    "        avg_cost = 0.\n",
    "        total_batch = int(X_train.shape[0] / batch_size)\n",
    "        #loop over all batches\n",
    "        for i in range(total_batch):\n",
    "            batch_xs, batch_ys = X_feed[i], y_feed[i]\n",
    "            sess.run(optimizer, feed_dict={x:batch_xs, y_:batch_ys})\n",
    "            avg_cost += sess.run(cost, feed_dict={x:batch_xs, y_:batch_ys})/ total_batch\n",
    "        if epoch % display_steps == 0:\n",
    "            print(\"Epoch:\", '%04d' %(epoch+1),\n",
    "                  \"cost:\", '{:.9f}'.format(avg_cost))\n",
    "    avg_set.append(avg_cost)\n",
    "    epoch_set.append(epoch+1)\n",
    "print(\"Trining phase finished\")"
   ]
  },
  {
   "cell_type": "code",
   "execution_count": 55,
   "metadata": {},
   "outputs": [
    {
     "name": "stdout",
     "output_type": "stream",
     "text": [
      "Epoch: 0001 cost: 0.006002133\n",
      "Epoch: 0011 cost: 0.005634706\n",
      "Epoch: 0021 cost: 0.005334265\n",
      "Epoch: 0031 cost: 0.005162401\n",
      "Epoch: 0041 cost: 0.005020168\n",
      "Epoch: 0051 cost: 0.004867760\n",
      "Epoch: 0061 cost: 0.004707956\n",
      "Epoch: 0071 cost: 0.004569990\n",
      "Epoch: 0081 cost: 0.004490233\n",
      "Epoch: 0091 cost: 0.004460628\n",
      "Epoch: 0101 cost: 0.004452041\n",
      "Epoch: 0111 cost: 0.004448939\n",
      "Epoch: 0121 cost: 0.004447497\n",
      "Epoch: 0131 cost: 0.004446680\n",
      "Epoch: 0141 cost: 0.004446139\n",
      "Epoch: 0151 cost: 0.004445746\n",
      "Epoch: 0161 cost: 0.004445440\n",
      "Epoch: 0171 cost: 0.004445194\n",
      "Epoch: 0181 cost: 0.004444990\n",
      "Epoch: 0191 cost: 0.004444819\n",
      "Epoch: 0201 cost: 0.004444673\n",
      "Epoch: 0211 cost: 0.004444549\n",
      "Epoch: 0221 cost: 0.004444440\n",
      "Epoch: 0231 cost: 0.004444345\n",
      "Epoch: 0241 cost: 0.004444261\n",
      "Epoch: 0251 cost: 0.004444187\n",
      "Epoch: 0261 cost: 0.004444122\n",
      "Epoch: 0271 cost: 0.004444063\n",
      "Epoch: 0281 cost: 0.004444010\n",
      "Epoch: 0291 cost: 0.004443963\n",
      "Epoch: 0301 cost: 0.004443919\n",
      "Epoch: 0311 cost: 0.004443880\n",
      "Epoch: 0321 cost: 0.004443844\n",
      "Epoch: 0331 cost: 0.004443811\n",
      "Epoch: 0341 cost: 0.004443781\n",
      "Epoch: 0351 cost: 0.004443754\n",
      "Epoch: 0361 cost: 0.004443728\n",
      "Epoch: 0371 cost: 0.004443705\n",
      "Epoch: 0381 cost: 0.004443683\n",
      "Epoch: 0391 cost: 0.004443663\n",
      "Epoch: 0401 cost: 0.004443644\n",
      "Epoch: 0411 cost: 0.004443626\n",
      "Epoch: 0421 cost: 0.004443610\n",
      "Epoch: 0431 cost: 0.004443594\n",
      "Epoch: 0441 cost: 0.004443580\n",
      "Epoch: 0451 cost: 0.004443567\n",
      "Epoch: 0461 cost: 0.004443554\n",
      "Epoch: 0471 cost: 0.004443542\n",
      "Epoch: 0481 cost: 0.004443531\n",
      "Epoch: 0491 cost: 0.004443520\n",
      "Trining phase finished\n"
     ]
    }
   ],
   "source": [
    "#init the variables\n",
    "init = tf.global_variables_initializer()\n",
    "\n",
    "#train\n",
    "with tf.Session() as sess:\n",
    "    sess.run(init)\n",
    "    for epoch in range(training_epochs):\n",
    "        avg_cost = 0.\n",
    "        sess.run(optimizer, feed_dict={x:X_train, y_: y_train})\n",
    "        avg_cost += sess.run(cost, feed_dict={x : X_train, y_ : y_train})/ total_batch\n",
    "        if epoch % display_steps == 0:\n",
    "            print(\"Epoch:\", '%04d' %(epoch+1),\n",
    "                  \"cost:\", '{:.9f}'.format(avg_cost))\n",
    "    avg_set.append(avg_cost)\n",
    "    epoch_set.append(epoch+1)\n",
    "print(\"Trining phase finished\")"
   ]
  },
  {
   "cell_type": "code",
   "execution_count": 29,
   "metadata": {},
   "outputs": [
    {
     "data": {
      "text/plain": [
       "0.0"
      ]
     },
     "execution_count": 29,
     "metadata": {},
     "output_type": "execute_result"
    }
   ],
   "source": [
    "avg_cost"
   ]
  },
  {
   "cell_type": "code",
   "execution_count": 22,
   "metadata": {},
   "outputs": [
    {
     "data": {
      "text/plain": [
       "(78210, 1)"
      ]
     },
     "execution_count": 22,
     "metadata": {},
     "output_type": "execute_result"
    }
   ],
   "source": [
    "y_train.shape"
   ]
  },
  {
   "cell_type": "code",
   "execution_count": null,
   "metadata": {
    "collapsed": true
   },
   "outputs": [],
   "source": []
  }
 ],
 "metadata": {
  "kernelspec": {
   "display_name": "Python 3",
   "language": "python",
   "name": "python3"
  },
  "language_info": {
   "codemirror_mode": {
    "name": "ipython",
    "version": 3
   },
   "file_extension": ".py",
   "mimetype": "text/x-python",
   "name": "python",
   "nbconvert_exporter": "python",
   "pygments_lexer": "ipython3",
   "version": "3.5.3"
  }
 },
 "nbformat": 4,
 "nbformat_minor": 2
}
