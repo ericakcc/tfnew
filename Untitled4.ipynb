{
 "cells": [
  {
   "cell_type": "code",
   "execution_count": 1,
   "metadata": {
    "collapsed": true
   },
   "outputs": [],
   "source": [
    "import numpy as np\n",
    "import matplotlib.pyplot as plt\n",
    "import tensorflow as tf"
   ]
  },
  {
   "cell_type": "code",
   "execution_count": 2,
   "metadata": {
    "collapsed": true
   },
   "outputs": [],
   "source": [
    "# Load data\n",
    "X = np.zeros([1,4])\n",
    "y = np.zeros(1)\n",
    "for i in range(1,18):\n",
    "    data = np.load(r'D:\\gradddddddddddddddddd\\newdata\\data_%i.npy' % i)\n",
    "    for j in range(len(data)):\n",
    "        if data[j,4] < 2500:\n",
    "            X = np.append(X,np.array([np.hstack((data[j,2:5],data[j,6]))]),axis=0)\n",
    "#            X = np.append(X,np.array([data[j,3:5]]),axis=0)\n",
    "            y = np.append(y,data[j,5])\n",
    "#X3 = X[:,0] - X[:,1]\n",
    "#X = np.concatenate((X, np.array([X3]).T), axis=1)\n",
    "X = np.delete(X, 0, 0)\n",
    "y = np.delete(y, 0)\n",
    "X[:,0] = X[:,0]**(1./3.)\n",
    "\n",
    "y[y<10] = 0\n",
    "y[y>=10] = 1\n",
    "#np.save(r'D:\\gradddddddddddddddddd\\newdata\\X_ATM.npy', X)\n",
    "#np.save(r'D:\\gradddddddddddddddddd\\newdata\\y_ATM.npy', y)"
   ]
  },
  {
   "cell_type": "code",
   "execution_count": 3,
   "metadata": {
    "collapsed": true
   },
   "outputs": [],
   "source": [
    "# Splitting the dataset into the Training set and Test set\n",
    "from sklearn.model_selection import train_test_split\n",
    "X_train, X_test, y_train, y_test = train_test_split(X, y, test_size = 0.2, random_state = 0)\n",
    "\n",
    "# Feature Scaling\n",
    "from sklearn.preprocessing import StandardScaler\n",
    "sc = StandardScaler()\n",
    "X_train = sc.fit_transform(X_train)\n",
    "X_test = sc.transform(X_test)"
   ]
  },
  {
   "cell_type": "code",
   "execution_count": null,
   "metadata": {
    "collapsed": true
   },
   "outputs": [],
   "source": []
  }
 ],
 "metadata": {
  "kernelspec": {
   "display_name": "Python 3",
   "language": "python",
   "name": "python3"
  },
  "language_info": {
   "codemirror_mode": {
    "name": "ipython",
    "version": 3
   },
   "file_extension": ".py",
   "mimetype": "text/x-python",
   "name": "python",
   "nbconvert_exporter": "python",
   "pygments_lexer": "ipython3",
   "version": "3.5.3"
  }
 },
 "nbformat": 4,
 "nbformat_minor": 2
}
