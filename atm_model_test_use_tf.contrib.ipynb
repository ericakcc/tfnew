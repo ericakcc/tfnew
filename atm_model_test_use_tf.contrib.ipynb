{
 "cells": [
  {
   "cell_type": "code",
   "execution_count": 1,
   "metadata": {
    "collapsed": true
   },
   "outputs": [],
   "source": [
    "import numpy as np\n",
    "import matplotlib.pyplot as plt\n",
    "import tensorflow as tf"
   ]
  },
  {
   "cell_type": "code",
   "execution_count": 2,
   "metadata": {
    "collapsed": true
   },
   "outputs": [],
   "source": [
    "# Load data\n",
    "X = np.zeros([1,4])\n",
    "y = np.zeros(1)\n",
    "for i in range(1,18):\n",
    "    data = np.load(r'D:\\gradddddddddddddddddd\\newdata\\data_%i.npy' % i)\n",
    "    for j in range(len(data)):\n",
    "        if data[j,4] < 2500:\n",
    "            X = np.append(X,np.array([np.hstack((data[j,2:5],data[j,6]))]),axis=0)\n",
    "#            X = np.append(X,np.array([data[j,3:5]]),axis=0)\n",
    "            y = np.append(y,data[j,5])\n",
    "#X3 = X[:,0] - X[:,1]\n",
    "#X = np.concatenate((X, np.array([X3]).T), axis=1)\n",
    "X = np.delete(X, 0, 0)\n",
    "y = np.delete(y, 0)\n",
    "X[:,0] = X[:,0]**(1./3.)\n",
    "\n",
    "y[y<10] = 0\n",
    "y[y>=10] = 1\n",
    "#np.save(r'D:\\gradddddddddddddddddd\\newdata\\X_ATM.npy', X)\n",
    "#np.save(r'D:\\gradddddddddddddddddd\\newdata\\y_ATM.npy', y)"
   ]
  },
  {
   "cell_type": "code",
   "execution_count": 3,
   "metadata": {
    "collapsed": true
   },
   "outputs": [],
   "source": [
    "# Splitting the dataset into the Training set and Test set\n",
    "from sklearn.model_selection import train_test_split\n",
    "X_train, X_test, y_train, y_test = train_test_split(X, y, test_size = 0.2, random_state = 0)\n",
    "\n",
    "# Feature Scaling\n",
    "from sklearn.preprocessing import StandardScaler\n",
    "sc = StandardScaler()\n",
    "X_train = sc.fit_transform(X_train)\n",
    "X_test = sc.transform(X_test)"
   ]
  },
  {
   "cell_type": "code",
   "execution_count": 4,
   "metadata": {
    "collapsed": true
   },
   "outputs": [],
   "source": [
    "feature_columns = [tf.contrib.layers.real_valued_column(\"\", dimension=4)] # features feed"
   ]
  },
  {
   "cell_type": "code",
   "execution_count": 15,
   "metadata": {},
   "outputs": [
    {
     "name": "stdout",
     "output_type": "stream",
     "text": [
      "INFO:tensorflow:Using default config.\n",
      "INFO:tensorflow:Using config: {'_save_summary_steps': 100, '_keep_checkpoint_max': 5, '_cluster_spec': <tensorflow.python.training.server_lib.ClusterSpec object at 0x000001710600C080>, '_evaluation_master': '', '_keep_checkpoint_every_n_hours': 10000, '_save_checkpoints_secs': 600, '_save_checkpoints_steps': None, '_task_id': 0, '_tf_config': gpu_options {\n",
      "  per_process_gpu_memory_fraction: 1\n",
      "}\n",
      ", '_model_dir': None, '_num_ps_replicas': 0, '_tf_random_seed': None, '_environment': 'local', '_task_type': None, '_master': '', '_num_worker_replicas': 0, '_is_chief': True}\n"
     ]
    }
   ],
   "source": [
    "# build model\n",
    "classifier = tf.contrib.learn.DNNClassifier(feature_columns=feature_columns,\n",
    "                                            hidden_units = [4,4,4],\n",
    "                                            n_classes = 2,\n",
    "                                            optimizer = tf.train.AdamOptimizer,\n",
    "                                            dropout=0.1,\n",
    "                                            model_dir=\"/tmp/atm_2\")"
   ]
  },
  {
   "cell_type": "code",
   "execution_count": 16,
   "metadata": {
    "collapsed": true
   },
   "outputs": [],
   "source": [
    "def get_train_inputs():\n",
    "    \n",
    "    x = tf.constant(X_train)\n",
    "    y = tf.constant(y_train)\n",
    "    \n",
    "    \n",
    "    return x, y"
   ]
  },
  {
   "cell_type": "code",
   "execution_count": 17,
   "metadata": {
    "scrolled": false
   },
   "outputs": [
    {
     "name": "stdout",
     "output_type": "stream",
     "text": [
      "WARNING:tensorflow:From C:\\Users\\ericakcc\\Anaconda3\\envs\\tfnew\\lib\\site-packages\\tensorflow\\contrib\\learn\\python\\learn\\estimators\\head.py:615: scalar_summary (from tensorflow.python.ops.logging_ops) is deprecated and will be removed after 2016-11-30.\n",
      "Instructions for updating:\n",
      "Please switch to tf.summary.scalar. Note that tf.summary.scalar uses the node name instead of the tag. This means that TensorFlow will automatically de-duplicate summary names based on the scope they are created in. Also, passing a tensor or list of tags to a scalar summary op is no longer supported.\n",
      "INFO:tensorflow:Create CheckpointSaverHook.\n",
      "INFO:tensorflow:Restoring parameters from /tmp/atm_2\\model.ckpt-2000\n",
      "INFO:tensorflow:Saving checkpoints for 2001 into /tmp/atm_2\\model.ckpt.\n",
      "INFO:tensorflow:step = 2001, loss = 0.0286655\n",
      "INFO:tensorflow:global_step/sec: 21.9169\n",
      "INFO:tensorflow:step = 2101, loss = 0.0279479 (4.564 sec)\n",
      "INFO:tensorflow:global_step/sec: 22.1315\n",
      "INFO:tensorflow:step = 2201, loss = 0.0280392 (4.518 sec)\n",
      "INFO:tensorflow:global_step/sec: 22.2284\n",
      "INFO:tensorflow:step = 2301, loss = 0.0284357 (4.499 sec)\n",
      "INFO:tensorflow:global_step/sec: 22.2218\n",
      "INFO:tensorflow:step = 2401, loss = 0.0274516 (4.502 sec)\n",
      "INFO:tensorflow:global_step/sec: 22.2272\n",
      "INFO:tensorflow:step = 2501, loss = 0.0268468 (4.498 sec)\n",
      "INFO:tensorflow:global_step/sec: 22.2918\n",
      "INFO:tensorflow:step = 2601, loss = 0.0267865 (4.486 sec)\n",
      "INFO:tensorflow:global_step/sec: 22.3433\n",
      "INFO:tensorflow:step = 2701, loss = 0.0271147 (4.475 sec)\n",
      "INFO:tensorflow:global_step/sec: 22.4206\n",
      "INFO:tensorflow:step = 2801, loss = 0.026405 (4.460 sec)\n",
      "INFO:tensorflow:global_step/sec: 22.5167\n",
      "INFO:tensorflow:step = 2901, loss = 0.026661 (4.441 sec)\n",
      "INFO:tensorflow:global_step/sec: 22.6653\n",
      "INFO:tensorflow:step = 3001, loss = 0.0261397 (4.413 sec)\n",
      "INFO:tensorflow:global_step/sec: 22.7648\n",
      "INFO:tensorflow:step = 3101, loss = 0.0260809 (4.392 sec)\n",
      "INFO:tensorflow:global_step/sec: 22.9011\n",
      "INFO:tensorflow:step = 3201, loss = 0.0255291 (4.370 sec)\n",
      "INFO:tensorflow:global_step/sec: 23.0881\n",
      "INFO:tensorflow:step = 3301, loss = 0.0256037 (4.329 sec)\n",
      "INFO:tensorflow:global_step/sec: 23.2476\n",
      "INFO:tensorflow:step = 3401, loss = 0.0254508 (4.301 sec)\n",
      "INFO:tensorflow:global_step/sec: 23.1773\n",
      "INFO:tensorflow:step = 3501, loss = 0.025098 (4.315 sec)\n",
      "INFO:tensorflow:global_step/sec: 23.4691\n",
      "INFO:tensorflow:step = 3601, loss = 0.0257169 (4.260 sec)\n",
      "INFO:tensorflow:global_step/sec: 23.5759\n",
      "INFO:tensorflow:step = 3701, loss = 0.0254491 (4.242 sec)\n",
      "INFO:tensorflow:global_step/sec: 23.625\n",
      "INFO:tensorflow:step = 3801, loss = 0.0249499 (4.232 sec)\n",
      "INFO:tensorflow:global_step/sec: 23.7442\n",
      "INFO:tensorflow:step = 3901, loss = 0.0246705 (4.212 sec)\n",
      "INFO:tensorflow:Saving checkpoints for 4000 into /tmp/atm_2\\model.ckpt.\n",
      "INFO:tensorflow:Loss for final step: 0.0245091.\n",
      "DNNClassifier(params={'gradient_clip_norm': None, 'head': <tensorflow.contrib.learn.python.learn.estimators.head._BinaryLogisticHead object at 0x0000017169BDEC18>, 'feature_columns': (_RealValuedColumn(column_name='', dimension=4, default_value=None, dtype=tf.float32, normalizer=None),), 'embedding_lr_multipliers': None, 'dropout': 0.1, 'optimizer': <class 'tensorflow.python.training.adam.AdamOptimizer'>, 'input_layer_min_slice_size': None, 'hidden_units': [4, 4, 4], 'activation_fn': <function relu at 0x000001717E2DD620>})\n"
     ]
    }
   ],
   "source": [
    "print(classifier.fit(input_fn=get_train_inputs, steps=2000))"
   ]
  },
  {
   "cell_type": "code",
   "execution_count": 9,
   "metadata": {
    "collapsed": true
   },
   "outputs": [],
   "source": [
    "def get_test_inputs():\n",
    "    x = tf.constant(X_test)\n",
    "    y = tf.constant(y_test)\n",
    "\n",
    "    return x, y"
   ]
  },
  {
   "cell_type": "code",
   "execution_count": 14,
   "metadata": {
    "scrolled": true
   },
   "outputs": [
    {
     "name": "stdout",
     "output_type": "stream",
     "text": [
      "WARNING:tensorflow:From C:\\Users\\ericakcc\\Anaconda3\\envs\\tfnew\\lib\\site-packages\\tensorflow\\contrib\\learn\\python\\learn\\estimators\\head.py:615: scalar_summary (from tensorflow.python.ops.logging_ops) is deprecated and will be removed after 2016-11-30.\n",
      "Instructions for updating:\n",
      "Please switch to tf.summary.scalar. Note that tf.summary.scalar uses the node name instead of the tag. This means that TensorFlow will automatically de-duplicate summary names based on the scope they are created in. Also, passing a tensor or list of tags to a scalar summary op is no longer supported.\n",
      "INFO:tensorflow:Starting evaluation at 2017-07-31-14:58:07\n",
      "INFO:tensorflow:Restoring parameters from /tmp/atm_2\\model.ckpt-2000\n",
      "INFO:tensorflow:Evaluation [1/1]\n",
      "INFO:tensorflow:Finished evaluation at 2017-07-31-14:58:08\n",
      "INFO:tensorflow:Saving dict for global step 2000: accuracy = 0.988033, accuracy/baseline_label_mean = 0.0119675, accuracy/threshold_0.500000_mean = 0.988033, auc = 0.991727, global_step = 2000, labels/actual_label_mean = 0.0119675, labels/prediction_mean = 0.00541409, loss = 0.0222719, precision/positive_threshold_0.500000_mean = 0.0, recall/positive_threshold_0.500000_mean = 0.0\n",
      "WARNING:tensorflow:Skipping summary for global_step, must be a float or np.float32.\n",
      "\n",
      "Test Accuracy: 0.988033\n",
      "\n"
     ]
    }
   ],
   "source": [
    "accuracy_score = classifier.evaluate(input_fn=get_test_inputs,\n",
    "                                     steps=1)[\"accuracy\"]\n",
    "\n",
    "print(\"\\nTest Accuracy: {0:f}\\n\".format(accuracy_score))"
   ]
  },
  {
   "cell_type": "code",
   "execution_count": null,
   "metadata": {
    "collapsed": true
   },
   "outputs": [],
   "source": []
  }
 ],
 "metadata": {
  "kernelspec": {
   "display_name": "Python 3",
   "language": "python",
   "name": "python3"
  },
  "language_info": {
   "codemirror_mode": {
    "name": "ipython",
    "version": 3
   },
   "file_extension": ".py",
   "mimetype": "text/x-python",
   "name": "python",
   "nbconvert_exporter": "python",
   "pygments_lexer": "ipython3",
   "version": "3.5.3"
  }
 },
 "nbformat": 4,
 "nbformat_minor": 2
}
