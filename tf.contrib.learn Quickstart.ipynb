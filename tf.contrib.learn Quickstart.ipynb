{
 "cells": [
  {
   "cell_type": "markdown",
   "metadata": {},
   "source": [
    "1. Load CSVs containing Iris training/test data into a TensorFlow Dataset\n",
    "2. Construct a neural network classifier\n",
    "3. Fit the model using the training data\n",
    "4. Evaluate the accuracy of the model\n",
    "5. Classify new samples"
   ]
  },
  {
   "cell_type": "code",
   "execution_count": 1,
   "metadata": {
    "collapsed": true
   },
   "outputs": [],
   "source": [
    "from __future__ import absolute_import\n",
    "from __future__ import division\n",
    "from __future__ import print_function\n",
    "\n",
    "import os\n",
    "from urllib.request import urlopen\n",
    "\n",
    "import tensorflow as tf\n",
    "import numpy as np\n",
    "\n",
    "IRIS_TRAINING = \"iris_training.csv\"\n",
    "IRIS_TRAINING_URL = \"http://download.tensorflow.org/data/iris_training.csv\"\n",
    "\n",
    "IRIS_TEST = \"iris_test.csv\"\n",
    "IRIS_TEST_URL = \"http://download.tensorflow.org/data/iris_test.csv\"\n"
   ]
  },
  {
   "cell_type": "markdown",
   "metadata": {},
   "source": [
    "Then, if the training and test sets aren't already stored locally, download them."
   ]
  },
  {
   "cell_type": "code",
   "execution_count": 13,
   "metadata": {},
   "outputs": [],
   "source": [
    "if not os.path.exists(IRIS_TRAINING):\n",
    "    raw = urlopen(IRIS_TRAINING_URL).read().decode(\"utf-8\") \n",
    "    with open(IRIS_TRAINING,'w') as f:\n",
    "        f.write(raw)\n",
    "\n",
    "if not os.path.exists(IRIS_TEST):\n",
    "    raw = urlopen(IRIS_TEST_URL).read().decode(\"utf-8\") \n",
    "    with open(IRIS_TEST,'w') as f:\n",
    "        f.write(raw)"
   ]
  },
  {
   "cell_type": "code",
   "execution_count": 16,
   "metadata": {},
   "outputs": [],
   "source": [
    "training_set = tf.contrib.learn.datasets.base.load_csv_with_header(\n",
    "        filename=IRIS_TRAINING,\n",
    "        target_dtype=np.int,\n",
    "        features_dtype=np.float32)"
   ]
  },
  {
   "cell_type": "code",
   "execution_count": 23,
   "metadata": {},
   "outputs": [],
   "source": [
    "test_set = tf.contrib.learn.datasets.base.load_csv_with_header(\n",
    "    filename=IRIS_TEST,\n",
    "    target_dtype=np.int,\n",
    "    features_dtype=np.float32)"
   ]
  },
  {
   "cell_type": "code",
   "execution_count": 27,
   "metadata": {},
   "outputs": [],
   "source": [
    "feature_columns = [tf.contrib.layers.real_valued_column(\"\", dimension=4)] # features feed"
   ]
  },
  {
   "cell_type": "code",
   "execution_count": 30,
   "metadata": {},
   "outputs": [
    {
     "name": "stdout",
     "output_type": "stream",
     "text": [
      "INFO:tensorflow:Using default config.\n",
      "INFO:tensorflow:Using config: {'_environment': 'local', '_cluster_spec': <tensorflow.python.training.server_lib.ClusterSpec object at 0x7f02761b2630>, '_task_type': None, '_save_checkpoints_secs': 600, '_keep_checkpoint_every_n_hours': 10000, '_num_ps_replicas': 0, '_master': '', '_tf_config': gpu_options {\n",
      "  per_process_gpu_memory_fraction: 1.0\n",
      "}\n",
      ", '_keep_checkpoint_max': 5, '_model_dir': '/tmp/iris_model', '_tf_random_seed': None, '_task_id': 0, '_is_chief': True, '_num_worker_replicas': 0, '_save_summary_steps': 100, '_session_config': None, '_save_checkpoints_steps': None, '_evaluation_master': ''}\n"
     ]
    }
   ],
   "source": [
    "classifier = tf.contrib.learn.DNNClassifier(feature_columns=feature_columns,\n",
    "                                            hidden_units = [10,20,10],\n",
    "                                            n_classes = 3,\n",
    "                                            model_dir=\"/tmp/iris_model\")"
   ]
  },
  {
   "cell_type": "code",
   "execution_count": 35,
   "metadata": {},
   "outputs": [],
   "source": [
    "# Define the training inputs\n",
    "def get_train_inputs():\n",
    "    \n",
    "    x = tf.constant(training_set.data)\n",
    "    y = tf.constant(training_set.target)\n",
    "    \n",
    "    return x, y"
   ]
  },
  {
   "cell_type": "code",
   "execution_count": 44,
   "metadata": {},
   "outputs": [
    {
     "name": "stdout",
     "output_type": "stream",
     "text": [
      "WARNING:tensorflow:From /home/ericakcc/anaconda2/envs/tfnew/lib/python3.5/site-packages/tensorflow/contrib/learn/python/learn/estimators/head.py:625: scalar_summary (from tensorflow.python.ops.logging_ops) is deprecated and will be removed after 2016-11-30.\n",
      "Instructions for updating:\n",
      "Please switch to tf.summary.scalar. Note that tf.summary.scalar uses the node name instead of the tag. This means that TensorFlow will automatically de-duplicate summary names based on the scope they are created in. Also, passing a tensor or list of tags to a scalar summary op is no longer supported.\n",
      "INFO:tensorflow:Create CheckpointSaverHook.\n",
      "INFO:tensorflow:Restoring parameters from /tmp/iris_model/model.ckpt-4000\n",
      "INFO:tensorflow:Saving checkpoints for 4001 into /tmp/iris_model/model.ckpt.\n",
      "INFO:tensorflow:step = 4001, loss = 0.0340775\n",
      "INFO:tensorflow:global_step/sec: 1640.44\n",
      "INFO:tensorflow:step = 4101, loss = 0.0337386 (0.061 sec)\n",
      "INFO:tensorflow:global_step/sec: 1698.97\n",
      "INFO:tensorflow:step = 4201, loss = 0.0334072 (0.059 sec)\n",
      "INFO:tensorflow:global_step/sec: 1746.6\n",
      "INFO:tensorflow:step = 4301, loss = 0.033083 (0.057 sec)\n",
      "INFO:tensorflow:global_step/sec: 1828.36\n",
      "INFO:tensorflow:step = 4401, loss = 0.032766 (0.055 sec)\n",
      "INFO:tensorflow:global_step/sec: 1830.73\n",
      "INFO:tensorflow:step = 4501, loss = 0.0324532 (0.055 sec)\n",
      "INFO:tensorflow:global_step/sec: 1636.67\n",
      "INFO:tensorflow:step = 4601, loss = 0.0321488 (0.061 sec)\n",
      "INFO:tensorflow:global_step/sec: 1641.53\n",
      "INFO:tensorflow:step = 4701, loss = 0.0318472 (0.061 sec)\n",
      "INFO:tensorflow:global_step/sec: 1692.07\n",
      "INFO:tensorflow:step = 4801, loss = 0.0315564 (0.059 sec)\n",
      "INFO:tensorflow:global_step/sec: 1795.25\n",
      "INFO:tensorflow:step = 4901, loss = 0.0312686 (0.056 sec)\n",
      "INFO:tensorflow:global_step/sec: 1793.53\n",
      "INFO:tensorflow:step = 5001, loss = 0.0309882 (0.056 sec)\n",
      "INFO:tensorflow:global_step/sec: 1444.03\n",
      "INFO:tensorflow:step = 5101, loss = 0.0307124 (0.069 sec)\n",
      "INFO:tensorflow:global_step/sec: 1804.86\n",
      "INFO:tensorflow:step = 5201, loss = 0.0304434 (0.055 sec)\n",
      "INFO:tensorflow:global_step/sec: 1848.32\n",
      "INFO:tensorflow:step = 5301, loss = 0.0301834 (0.054 sec)\n",
      "INFO:tensorflow:global_step/sec: 1781.77\n",
      "INFO:tensorflow:step = 5401, loss = 0.0299289 (0.056 sec)\n",
      "INFO:tensorflow:global_step/sec: 1784.45\n",
      "INFO:tensorflow:step = 5501, loss = 0.0296759 (0.056 sec)\n",
      "INFO:tensorflow:global_step/sec: 1806.57\n",
      "INFO:tensorflow:step = 5601, loss = 0.0294264 (0.055 sec)\n",
      "INFO:tensorflow:global_step/sec: 1829.81\n",
      "INFO:tensorflow:step = 5701, loss = 0.0291902 (0.055 sec)\n",
      "INFO:tensorflow:global_step/sec: 1673.65\n",
      "INFO:tensorflow:step = 5801, loss = 0.0289569 (0.060 sec)\n",
      "INFO:tensorflow:global_step/sec: 1823.17\n",
      "INFO:tensorflow:step = 5901, loss = 0.0287283 (0.055 sec)\n",
      "INFO:tensorflow:Saving checkpoints for 6000 into /tmp/iris_model/model.ckpt.\n",
      "INFO:tensorflow:Loss for final step: 0.0281215.\n",
      "DNNClassifier(params={'dropout': None, 'embedding_lr_multipliers': None, 'input_layer_min_slice_size': None, 'hidden_units': [10, 20, 10], 'gradient_clip_norm': None, 'head': <tensorflow.contrib.learn.python.learn.estimators.head._MultiClassHead object at 0x7f0276167438>, 'feature_columns': (_RealValuedColumn(column_name='', dimension=4, default_value=None, dtype=tf.float32, normalizer=None),), 'optimizer': None, 'activation_fn': <function relu at 0x7f02911376a8>})\n"
     ]
    }
   ],
   "source": [
    "print(classifier.fit(input_fn=get_train_inputs, steps=2000))"
   ]
  },
  {
   "cell_type": "code",
   "execution_count": 37,
   "metadata": {
    "collapsed": true
   },
   "outputs": [],
   "source": [
    "def get_test_inputs():\n",
    "    x = tf.constant(test_set.data)\n",
    "    y = tf.constant(test_set.target)\n",
    "\n",
    "    return x, y"
   ]
  },
  {
   "cell_type": "code",
   "execution_count": 38,
   "metadata": {},
   "outputs": [
    {
     "name": "stdout",
     "output_type": "stream",
     "text": [
      "WARNING:tensorflow:From /home/ericakcc/anaconda2/envs/tfnew/lib/python3.5/site-packages/tensorflow/contrib/learn/python/learn/estimators/head.py:625: scalar_summary (from tensorflow.python.ops.logging_ops) is deprecated and will be removed after 2016-11-30.\n",
      "Instructions for updating:\n",
      "Please switch to tf.summary.scalar. Note that tf.summary.scalar uses the node name instead of the tag. This means that TensorFlow will automatically de-duplicate summary names based on the scope they are created in. Also, passing a tensor or list of tags to a scalar summary op is no longer supported.\n",
      "INFO:tensorflow:Starting evaluation at 2017-07-20-08:21:04\n",
      "INFO:tensorflow:Restoring parameters from /tmp/iris_model/model.ckpt-2000\n",
      "INFO:tensorflow:Evaluation [1/1]\n",
      "INFO:tensorflow:Finished evaluation at 2017-07-20-08:21:04\n",
      "INFO:tensorflow:Saving dict for global step 2000: accuracy = 0.966667, global_step = 2000, loss = 0.0617994\n",
      "\n",
      "Test Accuracy: 0.966667\n",
      "\n"
     ]
    }
   ],
   "source": [
    "# Evaluate accuracy.\n",
    "accuracy_score = classifier.evaluate(input_fn=get_test_inputs,\n",
    "                                     steps=1)[\"accuracy\"]\n",
    "\n",
    "print(\"\\nTest Accuracy: {0:f}\\n\".format(accuracy_score))"
   ]
  },
  {
   "cell_type": "code",
   "execution_count": 42,
   "metadata": {
    "scrolled": true
   },
   "outputs": [
    {
     "name": "stdout",
     "output_type": "stream",
     "text": [
      "INFO:tensorflow:Restoring parameters from /tmp/iris_model/model.ckpt-2000\n",
      "New Samples, Class Predictions:    [1, 2]\n",
      "\n"
     ]
    }
   ],
   "source": [
    "def new_samples():\n",
    "    return np.array([[6.4, 3.2, 4.5, 1.5],\n",
    "                     [5.8, 3.1, 5.0, 1.7]], dtype=np.float32)\n",
    "\n",
    "predictions = list(classifier.predict_classes(input_fn=new_samples))\n",
    "\n",
    "print(\"New Samples, Class Predictions:    {}\\n\".format(predictions))"
   ]
  },
  {
   "cell_type": "code",
   "execution_count": null,
   "metadata": {
    "collapsed": true
   },
   "outputs": [],
   "source": []
  }
 ],
 "metadata": {
  "kernelspec": {
   "display_name": "Python 3",
   "language": "python",
   "name": "python3"
  },
  "language_info": {
   "codemirror_mode": {
    "name": "ipython",
    "version": 3
   },
   "file_extension": ".py",
   "mimetype": "text/x-python",
   "name": "python",
   "nbconvert_exporter": "python",
   "pygments_lexer": "ipython3",
   "version": "3.5.3"
  }
 },
 "nbformat": 4,
 "nbformat_minor": 2
}
